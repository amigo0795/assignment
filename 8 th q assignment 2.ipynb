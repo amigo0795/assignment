{
 "cells": [
  {
   "cell_type": "code",
   "execution_count": 21,
   "id": "38ecaced",
   "metadata": {},
   "outputs": [
    {
     "name": "stdout",
     "output_type": "stream",
     "text": [
      "store a value in spam 5\n",
      "Greetings !\n"
     ]
    }
   ],
   "source": [
    "a = int(input(\"store a value in spam \"))\n",
    "if a == 1 :\n",
    "    print( \"Hello\")\n",
    "elif a == 2 :\n",
    "    print(\"Howdy\")\n",
    "else :\n",
    "    print(\"Greetings !\")"
   ]
  },
  {
   "cell_type": "code",
   "execution_count": null,
   "id": "9cc58455",
   "metadata": {},
   "outputs": [],
   "source": []
  }
 ],
 "metadata": {
  "kernelspec": {
   "display_name": "Python 3 (ipykernel)",
   "language": "python",
   "name": "python3"
  },
  "language_info": {
   "codemirror_mode": {
    "name": "ipython",
    "version": 3
   },
   "file_extension": ".py",
   "mimetype": "text/x-python",
   "name": "python",
   "nbconvert_exporter": "python",
   "pygments_lexer": "ipython3",
   "version": "3.9.7"
  }
 },
 "nbformat": 4,
 "nbformat_minor": 5
}
